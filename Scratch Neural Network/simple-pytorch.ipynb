{
 "cells": [
  {
   "cell_type": "markdown",
   "id": "258426ba19fc9a2f",
   "metadata": {
    "collapsed": false
   },
   "source": [
    "# Convolutional Neural Network with PyTorch\n",
    "\n",
    "In the first part of the MP, you have successfully implemented a convolutional neural network from scratch using NumPy. Now that you have a good understanding of the fundamentals and underlying concepts, it's time to dive into the world of deep learning frameworks.\n",
    "\n",
    "In this part, you will learn how to implement a convolutional neural network using **[PyTorch](https://pytorch.org/)**. You will learn how to define a network architecture, instantiate a network object, train the network, and evaluate the network on the test data. We will also cover essential topics such as automatic differentiation, loss functions, and optimizers. By the end of this part, you will be able to implement, train, and evaluate neural networks using PyTorch with ease.\n",
    "\n",
    "Get ready to explore the exciting world of PyTorch and enhance your deep learning skills!\n",
    "\n",
    "### Submission Instructions\n",
    "\n",
    "- You can convert this notebook into a Python file and submit it to Gradescope for manual grading. For example, you can use the menu `File -> Download as -> Python (.py)` (Jupyter Notebook) or `File -> Export Notebook As -> Export Notebook to Executable Script` (JupyterLab) to convert this notebook to a Python file. Make sure to clean up the python script before submitting to gradescope. We should be able to run it simply via `python <script_name.py>`.\n",
    "- When submitting the prediction and the Python files, the files **must** be named exactly as instructed.\n",
    "- You can make multiple submissions but only the **latest** score will be used. Keep a copy of your previous predictions in case you want to revert to them. We are not policing the number of submissions you make to the test set, but we request that you limit to 1 submission every day. You shouldn't be tuning your model on the test set.\n"
   ]
  },
  {
   "cell_type": "markdown",
   "id": "89653b4312c21a54",
   "metadata": {
    "collapsed": false
   },
   "source": [
    "## 0. Prerequisites\n",
    "\n",
    "### Installing PyTorch\n",
    "\n",
    "Before we dive into the main part of the MP, let's first make sure that you have all the necessary packages installed. If you are using Google Colab, you can skip this section as the packages are already installed. If you are using your local machine, follow the official instructions [here](https://pytorch.org/get-started/locally/). Install the GPU-compatible version if you have a compatible NVIDIA GPU. You will also need to install these additional packages: `torch torchvision Pillow tqdm matplotlib`. Run the following cell to test your installation (and import other necessary packages):\n"
   ]
  },
  {
   "cell_type": "code",
   "execution_count": null,
   "id": "6f2dcf433c720a3c",
   "metadata": {
    "collapsed": false
   },
   "outputs": [],
   "source": [
    "import os\n",
    "import json\n",
    "import random\n",
    "\n",
    "from PIL import Image\n",
    "from tqdm import tqdm\n",
    "import torch\n",
    "import torch.nn as nn\n",
    "import torch.nn.functional as F\n",
    "from torch.utils.data import Dataset, DataLoader\n",
    "import torchvision\n",
    "from torchvision import transforms as T\n",
    "from torchvision.models import resnet18, ResNet18_Weights\n",
    "from torchvision.utils import make_grid\n",
    "from matplotlib import pyplot as plt\n",
    "\n",
    "print(f\"PyTorch version: {torch.__version__}\")\n",
    "print(f\"torchvision version: {torchvision.__version__}\")"
   ]
  },
  {
   "cell_type": "markdown",
   "id": "b417754211d27abe",
   "metadata": {
    "collapsed": false
   },
   "source": [
    "### Hardware Acceleration\n",
    "\n",
    "Graphics Processing Units (GPUs) are specialized hardware devices that can significantly speed up the training the inference of deep learning models. We strongly recommend using a GPU for this MP to save training time, though it is not required.\n",
    "\n",
    "If you are using Google Colab, you can enable free GPU acceleration by navigating to `Runtime -> Change runtime type -> Hardware accelerator -> GPU`. If you are using your local machine, you must have a compatible GPU. Run the following cell to check if you have a compatible GPU (`cuda` for GPU):\n"
   ]
  },
  {
   "cell_type": "code",
   "execution_count": null,
   "id": "30b5d563c3793dee",
   "metadata": {
    "collapsed": false
   },
   "outputs": [],
   "source": [
    "device = \"cuda\" if torch.cuda.is_available() else \"cpu\"\n",
    "print(f\"Using device: {device}\")"
   ]
  },
  {
   "cell_type": "markdown",
   "id": "f914df1d08d4ca8e",
   "metadata": {
    "collapsed": false
   },
   "source": [
    "### Downloading the Dataset\n",
    "\n",
    "In this MP, we will be working with the `AnimalDataset`. The dataset contains 10 different kinds of animals, and each data point is a 256 by 256 RGB image. The images are cropped from the [MS-COCO dataset](https://cocodataset.org/#home). The train, valid, and test splits contain 5347, 1330, and 1332 images, respectively.\n",
    "\n",
    "If you are on a Unix-based system (macOS or Linux or Google Colab), you can run the following cell to download the dataset. If you are using Windows, you should manually download the dataset from [here](https://saurabhg.web.illinois.edu/teaching/cs444/fa2023/mp2/dataset-v1.tgz) and extract the compressed file to the current directory. You should see a `dataset-v1` folder containing the dataset.\n"
   ]
  },
  {
   "cell_type": "code",
   "execution_count": null,
   "id": "c45f677cc856b896",
   "metadata": {
    "collapsed": false
   },
   "outputs": [],
   "source": [
    "!wget https://saurabhg.web.illinois.edu/teaching/cs444/fa2023/mp2/dataset-v1.tgz -O dataset-v1.tgz\n",
    "!tar -xf dataset-v1.tgz"
   ]
  },
  {
   "cell_type": "markdown",
   "id": "1c81007bcbab65f",
   "metadata": {
    "collapsed": false
   },
   "source": [
    "## 1. Dataset\n",
    "\n",
    "As you embark on your deep learning journey with PyTorch, one of the essential components you will encounter is the Dataset class. Datasets play a crucial role in the development of machine learning models, as they provide the necessary information for training, validation, and testing. In PyTorch, the Dataset class simplifies the process of handling data by offering a unified and efficient way to manage and preprocess your data.\n",
    "\n",
    "The PyTorch Dataset class is an abstract class, and to utilize it, you will need to create a custom dataset by subclassing and implementing two key methods: `__len__()` and `__getitem__()`. The `__len__()` method returns the size of the dataset, while the `__getitem__()` method retrieves a sample from the dataset given an index. By providing a standardized interface for accessing your data, the Dataset class enables seamless integration with other PyTorch components, such as DataLoader, which streamlines the process of loading and batching your data during training.\n"
   ]
  },
  {
   "cell_type": "code",
   "execution_count": null,
   "id": "871b4660a78956c3",
   "metadata": {
    "collapsed": false
   },
   "outputs": [],
   "source": [
    "class AnimalDataset(Dataset):\n",
    "    \"\"\"\n",
    "    Dataset containing 10 different kinds of animals. Each data point is a 256 by 256 RGB image.\n",
    "    The images are cropped from the MS-COCO dataset. (https://cocodataset.org/#home)\n",
    "    The train, valid, and test splits contain 5347, 1330, and 1332 images respectively.\n",
    "    \"\"\"\n",
    "\n",
    "    classes = (\n",
    "        \"bird\",\n",
    "        \"cat\",\n",
    "        \"dog\",\n",
    "        \"horse\",\n",
    "        \"sheep\",\n",
    "        \"cow\",\n",
    "        \"elephant\",\n",
    "        \"bear\",\n",
    "        \"zebra\",\n",
    "        \"giraffe\",\n",
    "    )\n",
    "\n",
    "    def __init__(self, root, split, transform=None):\n",
    "        \"\"\"\n",
    "        Args:\n",
    "            root (str): The root directory of the dataset.\n",
    "            split (str): The split to use. Can be 'train', 'val', or 'test'.\n",
    "            transform (callable, optional): A function/transform that takes in an PIL image\n",
    "                and returns a transformed version. See `torchvision.transforms` for examples.\n",
    "        \"\"\"\n",
    "        self.root = root\n",
    "        self.split = split\n",
    "        self.transform = transform\n",
    "\n",
    "        with open(os.path.join(root, \"labels\", f\"{split}.json\")) as f:\n",
    "            self.image_list = list(json.load(f).items())\n",
    "\n",
    "    def __len__(self):\n",
    "        \"\"\"\n",
    "        This method is called when you do len(dataset) to get the size of the dataset.\n",
    "        Usually you should implement this method.\n",
    "        Returns:\n",
    "            The number of data points in the split.\n",
    "        \"\"\"\n",
    "        return len(self.image_list)\n",
    "\n",
    "    def __getitem__(self, idx):\n",
    "        \"\"\"\n",
    "        This method return a data point specified by the index.\n",
    "        You MUST implement this method when inheriting `Dataset`.\n",
    "        Args:\n",
    "            idx (int): The index of the data point to get.\n",
    "        Returns:\n",
    "            image (Tensor): The image of the data point.\n",
    "            label (int): The label of the data point.\n",
    "        \"\"\"\n",
    "        image_path, label = self.image_list[idx]\n",
    "        image = Image.open(os.path.join(self.root, \"images\", f\"{image_path}.jpg\"))\n",
    "        if self.transform is not None:\n",
    "            image = self.transform(image)\n",
    "        return image, label"
   ]
  },
  {
   "cell_type": "code",
   "execution_count": null,
   "id": "4c00d7f92263736e",
   "metadata": {
    "collapsed": false
   },
   "outputs": [],
   "source": [
    "root = \"dataset-v1\"\n",
    "# This transforms the PIL images to PyTorch tensors\n",
    "transform = T.Compose(\n",
    "    [\n",
    "        T.ToTensor(),\n",
    "    ]\n",
    ")\n",
    "test_transform = T.Compose(\n",
    "    [\n",
    "        T.ToTensor(),\n",
    "    ]\n",
    ")\n",
    "train_dataset = AnimalDataset(root=root, split=\"train\", transform=transform)\n",
    "valid_dataset = AnimalDataset(root=root, split=\"val\", transform=test_transform)\n",
    "print(f\"Train dataset size: {len(train_dataset)}\")\n",
    "print(f\"Valid dataset size: {len(valid_dataset)}\")"
   ]
  },
  {
   "cell_type": "code",
   "execution_count": null,
   "id": "f7697e798dd2c216",
   "metadata": {
    "collapsed": false
   },
   "outputs": [],
   "source": [
    "# Visualize some examples from the dataset.\n",
    "# You can run this cell multiple times to see different examples!\n",
    "n_samples = 64\n",
    "indices = random.choices(range(len(train_dataset)), k=n_samples)\n",
    "sample_img = [train_dataset[i][0] for i in indices]\n",
    "grid_img = make_grid(sample_img, nrow=8)\n",
    "plt.figure(figsize=(10, 10))\n",
    "plt.imshow(grid_img.permute(1, 2, 0))\n",
    "plt.axis(\"off\")\n",
    "plt.title(\"Training Samples\")\n",
    "plt.show()"
   ]
  },
  {
   "cell_type": "markdown",
   "id": "a595b2a65e78a432",
   "metadata": {
    "collapsed": false
   },
   "source": [
    "## 2. DataLoader\n",
    "\n",
    "The PyTorch `DataLoader` works hand-in-hand with the `Dataset` class. By wrapping a `Dataset` object with a `DataLoader`, you can easily automate essential tasks such as shuffling, batching, and parallel processing. This not only saves you time and effort but also ensures that your data is loaded and prepared optimally for the training process.\n",
    "\n",
    "One of the key features of the `DataLoader` is its support for multiprocessing. By utilizing multiple workers, `DataLoader` can efficiently parallelize the loading and preprocessing of your data, significantly reducing the overall time it takes to prepare your data for training. This is especially useful when dealing with large datasets or complex data preprocessing pipelines.\n",
    "\n",
    "Run the following cell to create a `DataLoader` for the training and validation sets.\n"
   ]
  },
  {
   "cell_type": "code",
   "execution_count": null,
   "id": "77d2c5d9bc65d4f",
   "metadata": {
    "collapsed": false
   },
   "outputs": [],
   "source": [
    "batch_size = 64\n",
    "train_loader = DataLoader(train_dataset, batch_size=batch_size, shuffle=True)\n",
    "valid_loader = DataLoader(valid_dataset, batch_size=batch_size, shuffle=False)\n",
    "sample_img, sample_lbl = next(iter(train_loader))\n",
    "print(f\"Image batch shape: {sample_img.size()}\")\n",
    "print(f\"Label batch shape: {sample_lbl.size()}\")"
   ]
  },
  {
   "cell_type": "markdown",
   "id": "b2ac064917b6569d",
   "metadata": {
    "collapsed": false
   },
   "source": [
    "## 3. Model\n",
    "\n",
    "As you delve deeper into deep learning with PyTorch, you will come across one of its most powerful and versatile components: the `nn.Module` class. This class serves as the foundation for creating and managing neural networks in PyTorch, providing a flexible and modular approach to building a wide variety of neural network architectures.\n",
    "\n",
    "The `nn.Module` class is an abstract base class, and to leverage its power, you will need to subclass it and define your custom neural network layers and components. By implementing the `__init__()` method, you can initialize the layers and parameters of your network, while the `forward()` method defines the forward pass of your model, specifying how the input data flows through the layers to produce the output.\n",
    "\n",
    "One of the key advantages of the `nn.Module` class is its support for automatic differentiation and backpropagation. By encapsulating your model within an `nn.Module`, you can seamlessly integrate with PyTorch's autograd system, allowing you to perform gradient-based optimization with minimal effort. Furthermore, the `nn.Module` class provides built-in methods for parameter management, serialization, and device handling, making it easy to work with complex models in a distributed or GPU-accelerated environment.\n",
    "\n",
    "By mastering the `nn.Module`, you will be well-equipped to tackle diverse deep learning challenges and create state-of-the-art models with ease. In this introduction to PyTorch's `nn.Module`, we will guide you through the process of creating and customizing your neural networks using this powerful class. You will define a Convolutional Neural Network (CNN) by **implementing the `__init__()` and `forward()` methods**. Check PyTorch's official documentation at https://pytorch.org/docs/stable/nn.html for more information on the `nn.Module` class and other rich builtin layers.\n",
    "\n",
    "In this cell, we define a simple multi-layer linear classifier (multi-layer percetron, or MLP) for you to get started. You will implement a convolutional neural network in the later section.\n"
   ]
  },
  {
   "cell_type": "code",
   "execution_count": null,
   "id": "455a3721573597e5",
   "metadata": {
    "collapsed": false
   },
   "outputs": [],
   "source": [
    "class MLP(nn.Module):\n",
    "    \"\"\"\n",
    "    A simple multi-layer perceptron for classifying images in the AnimalDataset.\n",
    "    All models in PyTorch should inherit from `nn.Module` that provides functionality\n",
    "    for automatic differentiation and weight management.\n",
    "    \"\"\"\n",
    "\n",
    "    def __init__(self):\n",
    "        \"\"\"\n",
    "        Define the layers used in model.\n",
    "        \"\"\"\n",
    "        super().__init__()\n",
    "        self.fc = nn.Sequential(\n",
    "            nn.Linear(3 * 256 * 256, 128),\n",
    "            nn.ReLU(),\n",
    "            nn.Linear(128, 128),\n",
    "            nn.ReLU(),\n",
    "            nn.Linear(128, 128),\n",
    "        )\n",
    "\n",
    "    def forward(self, x):\n",
    "        \"\"\"\n",
    "        Forward pass of the model.\n",
    "        Apply the layers defined in `__init__`.\n",
    "        Args:\n",
    "            x (Tensor): The input tensor of shape (N, 3, 256, 256).\n",
    "        Returns:\n",
    "            output (Tensor): The output tensor of shape (N, 10).\n",
    "        \"\"\"\n",
    "        x = x.view(-1, 3 * 256 * 256)\n",
    "        x = self.fc(x)\n",
    "        return x"
   ]
  },
  {
   "cell_type": "code",
   "execution_count": null,
   "id": "34751cc5636089da",
   "metadata": {
    "collapsed": false
   },
   "outputs": [],
   "source": [
    "# Create a model instance and move it to the GPU if available\n",
    "model = MLP().to(device)\n",
    "print(model)\n",
    "print(f\"Model has {sum(p.numel() for p in model.parameters())} parameters.\")"
   ]
  },
  {
   "cell_type": "markdown",
   "id": "8282c5cd140a5b38",
   "metadata": {
    "collapsed": false
   },
   "source": [
    "## 4. Loss Function & Optimizer & Scheduler\n",
    "\n",
    "Just as you have done in the previous part of this MP, we will need to define a loss function, an optimizer, and an (optional) scheduler to train our model. Luckily, PyTorch provides a wide variety of built-in [loss functions](https://pytorch.org/docs/stable/nn.html#loss-functions), [optimizers](https://pytorch.org/docs/stable/optim.html), and [schedulers](https://pytorch.org/docs/stable/optim.html#how-to-adjust-learning-rate), making it easy to implement and experiment with different combinations. Run the following cell to create these instances.\n"
   ]
  },
  {
   "cell_type": "code",
   "execution_count": null,
   "id": "f6359dfe8240a08a",
   "metadata": {
    "collapsed": false
   },
   "outputs": [],
   "source": [
    "lr = 1e-3\n",
    "gamma = 0.9\n",
    "\n",
    "# Define the loss function\n",
    "criterion = nn.CrossEntropyLoss()\n",
    "# Define the optimizer\n",
    "optimizer = torch.optim.Adam(model.parameters(), lr=lr)\n",
    "# Define the learning rate scheduler\n",
    "scheduler = torch.optim.lr_scheduler.StepLR(optimizer, step_size=1, gamma=gamma)"
   ]
  },
  {
   "cell_type": "markdown",
   "id": "6988168b21630875",
   "metadata": {
    "collapsed": false
   },
   "source": [
    "## 5. Training & Validation\n",
    "\n",
    "Now that we have defined our model, loss function, optimizer, and scheduler, we are ready to train our model! The training and validation scheme is essentially the same as you have implemented in the first part of this MP.\n"
   ]
  },
  {
   "cell_type": "code",
   "execution_count": null,
   "id": "2a86807988890c03",
   "metadata": {
    "collapsed": false
   },
   "outputs": [],
   "source": [
    "def evaluate(model, data_loader):\n",
    "    \"\"\"Evaluate the model on the given dataset.\"\"\"\n",
    "    # Set the model to evaluation mode.\n",
    "    model.eval()\n",
    "    correct = 0\n",
    "    # The `torch.no_grad()` context will turn off gradients for efficiency.\n",
    "    with torch.no_grad():\n",
    "        for images, labels in tqdm(data_loader):\n",
    "            images, labels = images.to(device), labels.to(device)\n",
    "            output = model(images)\n",
    "            pred = output.argmax(dim=1)\n",
    "            correct += (pred == labels).sum().item()\n",
    "    return correct / len(data_loader.dataset)\n",
    "\n",
    "\n",
    "def train(model, n_epoch, optimizer, scheduler):\n",
    "    \"\"\"Train the model on the given dataset.\"\"\"\n",
    "    for epoch in range(n_epoch):\n",
    "        # Set the model to training mode.\n",
    "        model.train()\n",
    "        for step, (images, labels) in enumerate(train_loader):\n",
    "            # 0. Prepare the data. Move the data to the device (CPU/GPU).\n",
    "            images, labels = images.to(device), labels.to(device)\n",
    "            # 1. Clear previous gradients.\n",
    "            optimizer.zero_grad()\n",
    "            # 2. Forward pass. Calculate the output of the model.\n",
    "            output = model(images)\n",
    "            # 3. Calculate the loss.\n",
    "            loss = criterion(output, labels)\n",
    "            # 4. Calculate the gradients. PyTorch does this for us!\n",
    "            loss.backward()\n",
    "            # 5. Update the model parameters.\n",
    "            optimizer.step()\n",
    "            if step % 10 == 0:\n",
    "                print(f\"Epoch {epoch}, Step {step}, Loss {loss.item():.4f}\")\n",
    "        # 6. (Optional) Update the learning rate.\n",
    "        scheduler.step()\n",
    "        acc = evaluate(model, valid_loader)\n",
    "        print(f\"Epoch {epoch}, Valid Accuracy {acc * 100:.2f}%\")"
   ]
  },
  {
   "cell_type": "code",
   "execution_count": null,
   "id": "32ee48bd4d6bb6e6",
   "metadata": {
    "collapsed": false
   },
   "outputs": [],
   "source": [
    "# Train the model for 10 epochs.\n",
    "# You should get an accuracy about 30% on the validation set after training.\n",
    "n_epoch = 10\n",
    "train(model, n_epoch, optimizer, scheduler)"
   ]
  },
  {
   "cell_type": "markdown",
   "id": "bd43dfff0761b15b",
   "metadata": {
    "collapsed": false
   },
   "source": [
    "## 6. Convolutional Neural Network\n",
    "\n",
    "In the previous section, you have successfully trained a CNN model on the AnimalDataset. However, the performance of the model is still far from satisfactory. In this section, you will implement a convolutional neural network using the pre-defined layers in PyTorch. **Complete the `__init__` and `forward` methods**. You may refer to the [official documentation](https://pytorch.org/docs/stable/nn.html#conv2d) for more information on the `nn.Conv2d` layer.\n"
   ]
  },
  {
   "cell_type": "code",
   "execution_count": null,
   "id": "9edc1e18bd2cf9dd",
   "metadata": {
    "collapsed": false
   },
   "outputs": [],
   "source": [
    "class CNN(nn.Module):\n",
    "    \"\"\"\n",
    "    A simple CNN for classifying images in the AnimalDataset.\n",
    "    \"\"\"\n",
    "\n",
    "    def __init__(self):\n",
    "        \"\"\"\n",
    "        Define the layers used in model.\n",
    "        Hints:\n",
    "        - Checkout `nn.Conv2d`, `nn.MaxPool2d`, `nn.Linear`, `nn.ReLU`\n",
    "            in the PyTorch documentation.\n",
    "        - You may use `nn.Sequential` to chain multiple layers together.\n",
    "        - Be careful about the input and output shapes of the layers! Print `x.size()` if unsure.\n",
    "\n",
    "        1. 1st CNN layer:\n",
    "            - 2D Convolutional with input channels 3, output channels 8, kernel size 5, stride 1, and padding 2.\n",
    "            - ReLU activation.\n",
    "            - 2D Max pooling with kernel size 4 and stride 4.\n",
    "        2. 2nd CNN layer:\n",
    "            - 2D Convolutional with input channels 8, output channels 16, kernel size 5, stride 1, and padding 2.\n",
    "            - ReLU activation.\n",
    "            - 2D Max pooling with kernel size 4 and stride 4.\n",
    "        3. 3rd CNN layer:\n",
    "            - 2D Convolutional with input channels 16, output channels 32, kernel size 3, stride 1, and padding 1.\n",
    "            - ReLU activation.\n",
    "            - 2D Max pooling with kernel size 4 and stride 4.\n",
    "        4. A flatten layer. The flattened feature should have shape (N, 32 * 4 * 4).\n",
    "        5. A fully connected layer with 256 output units and ReLU activation.\n",
    "        6. A fully connected layer with 10 output units.\n",
    "        \"\"\"\n",
    "        super().__init__()\n",
    "\n",
    "    def forward(self, x):\n",
    "        \"\"\"\n",
    "        Forward pass of the model.\n",
    "        Apply the layers defined in `__init__` in order.\n",
    "        Args:\n",
    "            x (Tensor): The input tensor of shape (N, 3, 256, 256).\n",
    "        Returns:\n",
    "            output (Tensor): The output tensor of shape (N, 10).\n",
    "        \"\"\"\n",
    "        pass"
   ]
  },
  {
   "cell_type": "markdown",
   "id": "f125ac1c99a830c0",
   "metadata": {
    "collapsed": false
   },
   "source": [
    "Run the following cell to test your implementation.\n"
   ]
  },
  {
   "cell_type": "code",
   "execution_count": null,
   "id": "2602c2a0a0c90fcd",
   "metadata": {
    "collapsed": false
   },
   "outputs": [],
   "source": [
    "# Create a model instance and move it to the GPU if available\n",
    "model = CNN().to(device)\n",
    "print(model)\n",
    "print(f\"Model has {sum(p.numel() for p in model.parameters())} parameters.\")\n",
    "\n",
    "dummy_input = torch.randn(1, 3, 256, 256, device=device, dtype=torch.float)\n",
    "output = model(dummy_input)\n",
    "assert output.size() == (1, 10), f\"Expected output size (1, 10), got {output.size()}!\"\n",
    "print(\"Test passed!\")"
   ]
  },
  {
   "cell_type": "code",
   "execution_count": null,
   "id": "8fded265e7e3b5ba",
   "metadata": {
    "collapsed": false
   },
   "outputs": [],
   "source": [
    "lr = 1e-3\n",
    "gamma = 0.9\n",
    "optimizer = torch.optim.Adam(model.parameters(), lr=lr)\n",
    "scheduler = torch.optim.lr_scheduler.StepLR(optimizer, step_size=1, gamma=gamma)\n",
    "\n",
    "# Train the model for 10 epochs.\n",
    "# You should get an accuracy about 50%.\n",
    "n_epoch = 10\n",
    "train(model, n_epoch, optimizer, scheduler)"
   ]
  },
  {
   "cell_type": "markdown",
   "id": "e95102bd2a79c639",
   "metadata": {
    "collapsed": false
   },
   "source": [
    "## 7. Hyperparameter Tuning\n",
    "\n",
    "Though the performance has been significantly improved with a CNN model, the performance of the model is still far from satisfactory. In this section, we will explore how to tune the hyperparameters of the model to achieve better performance.\n",
    "We will explore how to tune the hyperparameters of the model to achieve better performance. You may test with the following settings of the model:\n",
    "\n",
    "- **Model architecture**: You may add more convolutional layers to the model or increase the number of hidden channels.\n",
    "- **Training hyperparameters**: You may try different hyperparameters including learning rate and batch size.\n",
    "- **Data augmentation**: You may apply data augmentation techniques such as random cropping, random flipping, and random color jittering to the training set. See [here](https://pytorch.org/vision/stable/transforms.html) for more information.\n",
    "- **Batch normalization**: You may add batch normalization layers to the model to improve the training process. See `nn.BatchNorm2d` for more information.\n",
    "\n",
    "  7.1 **[2 pts Autograded]**\n",
    "  You should be able to achieve an accuracy **above 60%** after tuning the hyperparameters. After you are satisfied with the performance of your model, run the following cells to evaluate generate predicted labels for the test set. Note that all labels we provided for the test set were set to -1. **Submit the output prediction with the name `pred_custom_cnn.txt` on Gradescope** to obtain its performance on the test set. Also, **upload a `script_custom_cnn.py` file of your CNN model architecture on Gradescope**. Feel free to experiment with different settings and see how the performance changes. **You are not allowed to load any pre-trained model in this section**.\n",
    "\n",
    "  7.2 **[2 pts Manually Graded]**\n",
    "  Document the hyperparameters and/or improvement techniques you applied in your report and discuss your findings. Include _control experiments_ that measure the effectiveness of each aspect that lead to large improvements. For example, if you are trying to improve the performance of your model by adding more convolutional layers, you should include a control experiment that measures the performance of the model with and without the additional convolutional layers. It is insightful to do backward ablations: starting with your final model, remove each modification you made one at a time to measure its contribution to the final performance. Consider presenting your results in tabular form along with a discussion of the results.\n"
   ]
  },
  {
   "cell_type": "code",
   "execution_count": null,
   "id": "38ac4c1faca9eefc",
   "metadata": {
    "collapsed": false
   },
   "outputs": [],
   "source": [
    "# Modify the model architecture, training hyperparameters, and use data augmentation techniques etc. to improve the performance.\n",
    "# Dataset\n",
    "root = \"dataset-v1\"\n",
    "transform = T.Compose(\n",
    "    [\n",
    "        T.ToTensor(),\n",
    "    ]\n",
    ")\n",
    "test_transform = T.Compose(\n",
    "    [\n",
    "        T.ToTensor(),\n",
    "    ]\n",
    ")\n",
    "train_dataset = AnimalDataset(root=root, split=\"train\", transform=transform)\n",
    "valid_dataset = AnimalDataset(root=root, split=\"val\", transform=test_transform)\n",
    "print(f\"Train dataset size: {len(train_dataset)}\")\n",
    "print(f\"Valid dataset size: {len(valid_dataset)}\")\n",
    "\n",
    "# Model\n",
    "model = CNN().to(device)\n",
    "print(model)\n",
    "print(f\"Model has {sum(p.numel() for p in model.parameters())} parameters.\")\n",
    "lr = 1e-3\n",
    "gamma = 0.9\n",
    "optimizer = torch.optim.Adam(model.parameters(), lr=lr)\n",
    "scheduler = torch.optim.lr_scheduler.StepLR(optimizer, step_size=1, gamma=gamma)\n",
    "\n",
    "# Training\n",
    "n_epoch = 10\n",
    "train(model, n_epoch, optimizer, scheduler)"
   ]
  },
  {
   "cell_type": "code",
   "execution_count": null,
   "id": "251ee3981e087307",
   "metadata": {
    "collapsed": false
   },
   "outputs": [],
   "source": [
    "def inference(model, data_loader, output_fn=\"predictions.txt\"):\n",
    "    \"\"\"Generate predicted labels for the test set.\"\"\"\n",
    "    model.eval()\n",
    "    predictions = []\n",
    "    with torch.no_grad():\n",
    "        for images, _ in tqdm(data_loader):\n",
    "            images = images.to(device)\n",
    "            output = model(images)\n",
    "            pred = output.argmax(dim=1)\n",
    "            predictions.extend(pred.cpu().numpy())\n",
    "    with open(output_fn, \"w\") as f:\n",
    "        for pred in predictions:\n",
    "            f.write(f\"{pred}\\n\")\n",
    "    print(f\"Predictions saved to {output_fn}\")\n",
    "    return predictions\n",
    "\n",
    "\n",
    "test_dataset = AnimalDataset(root=root, split=\"test\", transform=test_transform)\n",
    "test_loader = DataLoader(test_dataset, batch_size=64, shuffle=False)\n",
    "inference(model, test_loader, \"pred_custom_cnn.txt\")"
   ]
  },
  {
   "cell_type": "markdown",
   "id": "5da6c789997a3943",
   "metadata": {
    "collapsed": false
   },
   "source": [
    "## 8. Finetuning Pre-Trained ResNet-18 Model\n",
    "\n",
    "In the previous section, you have successfully trained a CNN model from scratch. However, training a model from scratch is often time-consuming and computationally expensive. Luckily, we can leverage the power of transfer learning to speed up the training process and achieve better performance. In this section, we will explore how to finetune a pre-trained model using PyTorch.\n",
    "\n",
    "In this section, you can use the [ResNet-18](https://arxiv.org/abs/1512.03385) model pre-trained on the [ImageNet](https://www.image-net.org/) dataset. Finetune the model on the AnimalDataset and evaluate the model on the test set. See [here](https://pytorch.org/docs/stable/torchvision/models.html) for more information on the pre-trained models provided by PyTorch.\n",
    "\n",
    "8.1 **[2 pts Autograded]**\n",
    "You should be able to get an accuracy **above 90%** in order to receive the full points. **Submit the output prediction with the name `pred_resnet_ft.txt` on Gradescope** to obtain its performance on the test set. Also, **upload a `script_resnet_ft.py` file of your finetuning code on Gradescope**.\n",
    "\n",
    "8.2 **[1 pt Extra credit, manually graded]**\n",
    "We have set up another leaderboard for this section. Feel free to experiment with different settings and see how the performance changes. You can only use pre-trained ResNet-18 model in this section. Students with the top 5 highest accuracy will receive 1 point extra credit. Late submissions (i.e. after Oct 5 11:59:59PM) will not be eligible for this extra credit.\n"
   ]
  },
  {
   "cell_type": "code",
   "execution_count": null,
   "id": "fa27200af0b4d3b2",
   "metadata": {
    "collapsed": false
   },
   "outputs": [],
   "source": [
    "# Enter your code here"
   ]
  },
  {
   "cell_type": "code",
   "execution_count": null,
   "id": "2be21b498d43f537",
   "metadata": {
    "collapsed": false
   },
   "outputs": [],
   "source": []
  }
 ],
 "metadata": {
  "kernelspec": {
   "display_name": "Python 3",
   "language": "python",
   "name": "python3"
  },
  "language_info": {
   "codemirror_mode": {
    "name": "ipython",
    "version": 2
   },
   "file_extension": ".py",
   "mimetype": "text/x-python",
   "name": "python",
   "nbconvert_exporter": "python",
   "pygments_lexer": "ipython2",
   "version": "2.7.6"
  }
 },
 "nbformat": 4,
 "nbformat_minor": 5
}
