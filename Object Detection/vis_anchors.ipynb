{
 "cells": [
  {
   "cell_type": "code",
   "execution_count": 1,
   "id": "495b8f07",
   "metadata": {},
   "outputs": [],
   "source": [
    "import matplotlib.pyplot as plt\n",
    "import matplotlib.patches as patches\n",
    "import numpy as np\n",
    "from network import RetinaNet\n",
    "import torch\n",
    "\n",
    "img_mean = np.array([0.485, 0.456, 0.406])\n",
    "img_std = np.array([0.229, 0.224, 0.225])\n",
    "\n",
    "def visualize_anchor(image, bboxes):\n",
    "    _, axes = plt.subplots(3,2, figsize=(15, 15))\n",
    "    axes = axes.flatten()\n",
    "    img_plt = image[0].permute(1,2,0).cpu().numpy()\n",
    "    img_plt = img_std * img_plt + img_mean\n",
    "    img_plt = np.clip(img_plt, 0, 1)\n",
    "    for i, bbox in enumerate(bboxes):\n",
    "        axes[i].imshow(img_plt)\n",
    "        for b in bbox:\n",
    "            x1, y1, x2, y2 = b\n",
    "            rect = patches.Rectangle((x1, y1), x2-x1, y2-y1, \n",
    "                                    linewidth=1, edgecolor='r', \n",
    "                                    facecolor='none')\n",
    "            axes[i].text(x1, y1-10, 'anchor', color='r')\n",
    "            axes[i].add_patch(rect)"
   ]
  },
  {
   "cell_type": "code",
   "execution_count": 2,
   "id": "41738846",
   "metadata": {},
   "outputs": [],
   "source": [
    "model = RetinaNet(fpn=True, p67=True)"
   ]
  },
  {
   "cell_type": "code",
   "execution_count": null,
   "id": "666d2336",
   "metadata": {},
   "outputs": [],
   "source": [
    "image = torch.zeros((1, 3, 731, 1333)).float()\n",
    "outs = model(image)\n",
    "anchor_pyramid = []\n",
    "for out in outs:\n",
    "    _, _, anchor = out\n",
    "    B, A, H, W = anchor.shape\n",
    "    anchor = anchor.reshape(B, A // 4, 4, H, W).squeeze(0).cpu().numpy()\n",
    "    anchor_pyramid.append(anchor[..., H//2, W//2])\n",
    "visualize_anchor(image, anchor_pyramid)"
   ]
  },
  {
   "cell_type": "markdown",
   "id": "56204da6",
   "metadata": {},
   "source": [
    "<img src=\"anchor.png\" width=\"800\" />\n",
    "<!-- ![anchor.png](anchor.png) -->"
   ]
  }
 ],
 "metadata": {
  "kernelspec": {
   "display_name": "Python 3",
   "language": "python",
   "name": "python3"
  },
  "language_info": {
   "codemirror_mode": {
    "name": "ipython",
    "version": 3
   },
   "file_extension": ".py",
   "mimetype": "text/x-python",
   "name": "python",
   "nbconvert_exporter": "python",
   "pygments_lexer": "ipython3",
   "version": "3.8.10"
  }
 },
 "nbformat": 4,
 "nbformat_minor": 5
}
